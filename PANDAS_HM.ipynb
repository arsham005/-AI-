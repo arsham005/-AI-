{
 "cells": [
  {
   "cell_type": "code",
   "execution_count": 690,
   "id": "b4c957be-1bb0-4227-b68b-0853120c7a59",
   "metadata": {},
   "outputs": [],
   "source": [
    "import numpy as np\n",
    "import pandas as pd\n",
    "import seaborn as sns"
   ]
  },
  {
   "cell_type": "code",
   "execution_count": 692,
   "id": "d59064b6-62ce-48b7-a6f0-8a79762d7661",
   "metadata": {},
   "outputs": [
    {
     "name": "stdout",
     "output_type": "stream",
     "text": [
      "<class 'pandas.core.frame.DataFrame'>\n",
      "RangeIndex: 625 entries, 0 to 624\n",
      "Data columns (total 26 columns):\n",
      " #   Column            Non-Null Count  Dtype  \n",
      "---  ------            --------------  -----  \n",
      " 0   artistName        625 non-null    object \n",
      " 1   musicName         625 non-null    object \n",
      " 2   Radiojavan_play   625 non-null    int64  \n",
      " 3   Radiojavan_likes  625 non-null    int64  \n",
      " 4   pubdate           625 non-null    object \n",
      " 5   lyric             625 non-null    object \n",
      " 6   musicID           625 non-null    object \n",
      " 7   popularity        625 non-null    int64  \n",
      " 8   danceability      625 non-null    float64\n",
      " 9   energy            625 non-null    float64\n",
      " 10  key               625 non-null    int64  \n",
      " 11  loudness          625 non-null    float64\n",
      " 12  mode              625 non-null    int64  \n",
      " 13  speechiness       625 non-null    float64\n",
      " 14  acousticness      625 non-null    float64\n",
      " 15  instrumentalness  625 non-null    float64\n",
      " 16  liveness          625 non-null    float64\n",
      " 17  valence           625 non-null    float64\n",
      " 18  tempo             625 non-null    float64\n",
      " 19  type              625 non-null    object \n",
      " 20  id                625 non-null    object \n",
      " 21  uri               625 non-null    object \n",
      " 22  track_href        625 non-null    object \n",
      " 23  analysis_url      625 non-null    object \n",
      " 24  duration_ms       625 non-null    int64  \n",
      " 25  time_signature    625 non-null    int64  \n",
      "dtypes: float64(9), int64(7), object(10)\n",
      "memory usage: 127.1+ KB\n"
     ]
    }
   ],
   "source": [
    "data = pd.read_csv(\"Radiojavan.csv\")\n",
    "data.info()"
   ]
  },
  {
   "cell_type": "code",
   "execution_count": 694,
   "id": "f1fa59c7-15ad-4d97-bfcf-719ee280400a",
   "metadata": {},
   "outputs": [
    {
     "data": {
      "text/html": [
       "<div>\n",
       "<style scoped>\n",
       "    .dataframe tbody tr th:only-of-type {\n",
       "        vertical-align: middle;\n",
       "    }\n",
       "\n",
       "    .dataframe tbody tr th {\n",
       "        vertical-align: top;\n",
       "    }\n",
       "\n",
       "    .dataframe thead th {\n",
       "        text-align: right;\n",
       "    }\n",
       "</style>\n",
       "<table border=\"1\" class=\"dataframe\">\n",
       "  <thead>\n",
       "    <tr style=\"text-align: right;\">\n",
       "      <th></th>\n",
       "      <th>Radiojavan_play</th>\n",
       "      <th>Radiojavan_likes</th>\n",
       "      <th>popularity</th>\n",
       "      <th>danceability</th>\n",
       "      <th>energy</th>\n",
       "      <th>key</th>\n",
       "      <th>loudness</th>\n",
       "      <th>mode</th>\n",
       "      <th>speechiness</th>\n",
       "      <th>acousticness</th>\n",
       "      <th>instrumentalness</th>\n",
       "      <th>liveness</th>\n",
       "      <th>valence</th>\n",
       "      <th>tempo</th>\n",
       "      <th>duration_ms</th>\n",
       "      <th>time_signature</th>\n",
       "    </tr>\n",
       "  </thead>\n",
       "  <tbody>\n",
       "    <tr>\n",
       "      <th>count</th>\n",
       "      <td>6.250000e+02</td>\n",
       "      <td>625.000000</td>\n",
       "      <td>625.000000</td>\n",
       "      <td>625.000000</td>\n",
       "      <td>625.000000</td>\n",
       "      <td>625.000000</td>\n",
       "      <td>625.000000</td>\n",
       "      <td>625.000000</td>\n",
       "      <td>625.000000</td>\n",
       "      <td>625.000000</td>\n",
       "      <td>625.000000</td>\n",
       "      <td>625.000000</td>\n",
       "      <td>625.000000</td>\n",
       "      <td>625.000000</td>\n",
       "      <td>625.000000</td>\n",
       "      <td>625.000000</td>\n",
       "    </tr>\n",
       "    <tr>\n",
       "      <th>mean</th>\n",
       "      <td>2.113850e+07</td>\n",
       "      <td>24993.600000</td>\n",
       "      <td>29.908800</td>\n",
       "      <td>0.666973</td>\n",
       "      <td>0.701865</td>\n",
       "      <td>5.334400</td>\n",
       "      <td>-6.251210</td>\n",
       "      <td>0.225600</td>\n",
       "      <td>0.117977</td>\n",
       "      <td>0.394676</td>\n",
       "      <td>0.005765</td>\n",
       "      <td>0.201889</td>\n",
       "      <td>0.589235</td>\n",
       "      <td>120.407307</td>\n",
       "      <td>229193.059200</td>\n",
       "      <td>3.838400</td>\n",
       "    </tr>\n",
       "    <tr>\n",
       "      <th>std</th>\n",
       "      <td>1.108366e+07</td>\n",
       "      <td>12543.767654</td>\n",
       "      <td>8.988044</td>\n",
       "      <td>0.135372</td>\n",
       "      <td>0.158734</td>\n",
       "      <td>3.718265</td>\n",
       "      <td>2.766955</td>\n",
       "      <td>0.418312</td>\n",
       "      <td>0.089159</td>\n",
       "      <td>0.273388</td>\n",
       "      <td>0.064410</td>\n",
       "      <td>0.152764</td>\n",
       "      <td>0.224180</td>\n",
       "      <td>25.338471</td>\n",
       "      <td>53617.080064</td>\n",
       "      <td>0.389523</td>\n",
       "    </tr>\n",
       "    <tr>\n",
       "      <th>min</th>\n",
       "      <td>1.112723e+07</td>\n",
       "      <td>6039.000000</td>\n",
       "      <td>1.000000</td>\n",
       "      <td>0.095100</td>\n",
       "      <td>0.005240</td>\n",
       "      <td>0.000000</td>\n",
       "      <td>-37.806000</td>\n",
       "      <td>0.000000</td>\n",
       "      <td>0.027000</td>\n",
       "      <td>0.001580</td>\n",
       "      <td>0.000000</td>\n",
       "      <td>0.026300</td>\n",
       "      <td>0.033900</td>\n",
       "      <td>62.986000</td>\n",
       "      <td>109166.000000</td>\n",
       "      <td>1.000000</td>\n",
       "    </tr>\n",
       "    <tr>\n",
       "      <th>25%</th>\n",
       "      <td>1.377959e+07</td>\n",
       "      <td>16812.000000</td>\n",
       "      <td>23.000000</td>\n",
       "      <td>0.601000</td>\n",
       "      <td>0.606000</td>\n",
       "      <td>2.000000</td>\n",
       "      <td>-7.272000</td>\n",
       "      <td>0.000000</td>\n",
       "      <td>0.049500</td>\n",
       "      <td>0.133000</td>\n",
       "      <td>0.000000</td>\n",
       "      <td>0.098400</td>\n",
       "      <td>0.420000</td>\n",
       "      <td>103.177000</td>\n",
       "      <td>194377.000000</td>\n",
       "      <td>4.000000</td>\n",
       "    </tr>\n",
       "    <tr>\n",
       "      <th>50%</th>\n",
       "      <td>1.722491e+07</td>\n",
       "      <td>21547.000000</td>\n",
       "      <td>30.000000</td>\n",
       "      <td>0.689000</td>\n",
       "      <td>0.727000</td>\n",
       "      <td>5.000000</td>\n",
       "      <td>-5.742000</td>\n",
       "      <td>0.000000</td>\n",
       "      <td>0.084100</td>\n",
       "      <td>0.371000</td>\n",
       "      <td>0.000000</td>\n",
       "      <td>0.138000</td>\n",
       "      <td>0.603000</td>\n",
       "      <td>119.984000</td>\n",
       "      <td>218241.000000</td>\n",
       "      <td>4.000000</td>\n",
       "    </tr>\n",
       "    <tr>\n",
       "      <th>75%</th>\n",
       "      <td>2.477840e+07</td>\n",
       "      <td>30261.000000</td>\n",
       "      <td>37.000000</td>\n",
       "      <td>0.766000</td>\n",
       "      <td>0.828000</td>\n",
       "      <td>9.000000</td>\n",
       "      <td>-4.505000</td>\n",
       "      <td>0.000000</td>\n",
       "      <td>0.166000</td>\n",
       "      <td>0.642000</td>\n",
       "      <td>0.000009</td>\n",
       "      <td>0.262000</td>\n",
       "      <td>0.767000</td>\n",
       "      <td>130.014000</td>\n",
       "      <td>249575.000000</td>\n",
       "      <td>4.000000</td>\n",
       "    </tr>\n",
       "    <tr>\n",
       "      <th>max</th>\n",
       "      <td>9.701137e+07</td>\n",
       "      <td>93209.000000</td>\n",
       "      <td>64.000000</td>\n",
       "      <td>0.938000</td>\n",
       "      <td>0.976000</td>\n",
       "      <td>11.000000</td>\n",
       "      <td>-0.798000</td>\n",
       "      <td>1.000000</td>\n",
       "      <td>0.464000</td>\n",
       "      <td>0.994000</td>\n",
       "      <td>0.927000</td>\n",
       "      <td>0.951000</td>\n",
       "      <td>0.980000</td>\n",
       "      <td>202.021000</td>\n",
       "      <td>679498.000000</td>\n",
       "      <td>5.000000</td>\n",
       "    </tr>\n",
       "  </tbody>\n",
       "</table>\n",
       "</div>"
      ],
      "text/plain": [
       "       Radiojavan_play  Radiojavan_likes  popularity  danceability  \\\n",
       "count     6.250000e+02        625.000000  625.000000    625.000000   \n",
       "mean      2.113850e+07      24993.600000   29.908800      0.666973   \n",
       "std       1.108366e+07      12543.767654    8.988044      0.135372   \n",
       "min       1.112723e+07       6039.000000    1.000000      0.095100   \n",
       "25%       1.377959e+07      16812.000000   23.000000      0.601000   \n",
       "50%       1.722491e+07      21547.000000   30.000000      0.689000   \n",
       "75%       2.477840e+07      30261.000000   37.000000      0.766000   \n",
       "max       9.701137e+07      93209.000000   64.000000      0.938000   \n",
       "\n",
       "           energy         key    loudness        mode  speechiness  \\\n",
       "count  625.000000  625.000000  625.000000  625.000000   625.000000   \n",
       "mean     0.701865    5.334400   -6.251210    0.225600     0.117977   \n",
       "std      0.158734    3.718265    2.766955    0.418312     0.089159   \n",
       "min      0.005240    0.000000  -37.806000    0.000000     0.027000   \n",
       "25%      0.606000    2.000000   -7.272000    0.000000     0.049500   \n",
       "50%      0.727000    5.000000   -5.742000    0.000000     0.084100   \n",
       "75%      0.828000    9.000000   -4.505000    0.000000     0.166000   \n",
       "max      0.976000   11.000000   -0.798000    1.000000     0.464000   \n",
       "\n",
       "       acousticness  instrumentalness    liveness     valence       tempo  \\\n",
       "count    625.000000        625.000000  625.000000  625.000000  625.000000   \n",
       "mean       0.394676          0.005765    0.201889    0.589235  120.407307   \n",
       "std        0.273388          0.064410    0.152764    0.224180   25.338471   \n",
       "min        0.001580          0.000000    0.026300    0.033900   62.986000   \n",
       "25%        0.133000          0.000000    0.098400    0.420000  103.177000   \n",
       "50%        0.371000          0.000000    0.138000    0.603000  119.984000   \n",
       "75%        0.642000          0.000009    0.262000    0.767000  130.014000   \n",
       "max        0.994000          0.927000    0.951000    0.980000  202.021000   \n",
       "\n",
       "         duration_ms  time_signature  \n",
       "count     625.000000      625.000000  \n",
       "mean   229193.059200        3.838400  \n",
       "std     53617.080064        0.389523  \n",
       "min    109166.000000        1.000000  \n",
       "25%    194377.000000        4.000000  \n",
       "50%    218241.000000        4.000000  \n",
       "75%    249575.000000        4.000000  \n",
       "max    679498.000000        5.000000  "
      ]
     },
     "execution_count": 694,
     "metadata": {},
     "output_type": "execute_result"
    }
   ],
   "source": [
    "data.describe()"
   ]
  },
  {
   "cell_type": "code",
   "execution_count": 696,
   "id": "0070fa57-1241-4f01-906a-8b2a1aeac95b",
   "metadata": {},
   "outputs": [],
   "source": [
    "def var(x):\n",
    "    for i in x:\n",
    "        return i"
   ]
  },
  {
   "cell_type": "code",
   "execution_count": 698,
   "id": "86c277b8-44a6-4741-b853-9b1c23a5acc8",
   "metadata": {},
   "outputs": [
    {
     "name": "stdout",
     "output_type": "stream",
     "text": [
      "Top 4 artists are: Shadmehr Aghili & Behnam Bani & Mohsen Yeganeh & Hoorosh Band\n"
     ]
    }
   ],
   "source": [
    "# 1)Top 4 artists who have the most songs\n",
    "data[\"artistName\"].value_counts()\n",
    "print(\"Top 4 artists are: Shadmehr Aghili & Behnam Bani & Mohsen Yeganeh & Hoorosh Band\")"
   ]
  },
  {
   "cell_type": "code",
   "execution_count": 726,
   "id": "72c47e5c-6fe6-4a07-984a-b40a17990fb3",
   "metadata": {},
   "outputs": [
    {
     "name": "stdout",
     "output_type": "stream",
     "text": [
      "The lowest liked song is: Dokhtaré Bandar\n"
     ]
    }
   ],
   "source": [
    "# 2)The lowest liked:\n",
    "q = data[data[\"Radiojavan_likes\"] == 6039.00000][\"musicName\"]\n",
    "\n",
    "print(f\"The lowest liked song is: {var(q)}\")"
   ]
  },
  {
   "cell_type": "code",
   "execution_count": 728,
   "id": "6f228c1d-9036-4f39-bc7e-2abfd8342af5",
   "metadata": {},
   "outputs": [
    {
     "name": "stdout",
     "output_type": "stream",
     "text": [
      "Singer of the lowest liked song is: Andy\n"
     ]
    }
   ],
   "source": [
    "qq = data[data[\"Radiojavan_likes\"] == 6039.00000][\"artistName\"]\n",
    "print(f\"Singer of the lowest liked song is: {var(qq)}\")"
   ]
  },
  {
   "cell_type": "code",
   "execution_count": 730,
   "id": "4b42e1f4-a000-4bff-b99c-9a1e98c149a0",
   "metadata": {},
   "outputs": [
    {
     "name": "stdout",
     "output_type": "stream",
     "text": [
      "The most liked song is: To Ke Nisti Pisham\n"
     ]
    }
   ],
   "source": [
    "# 2)The most liked:\n",
    "w = data[data[\"Radiojavan_likes\"] == 93209.000000][\"musicName\"]\n",
    "print(f\"The most liked song is: {var(w)}\")"
   ]
  },
  {
   "cell_type": "code",
   "execution_count": 732,
   "id": "cb745e13-5246-4ec2-ba89-308f564171c2",
   "metadata": {},
   "outputs": [
    {
     "name": "stdout",
     "output_type": "stream",
     "text": [
      "Singer of the most liked song is: Masih\n"
     ]
    }
   ],
   "source": [
    "ww = data[data[\"Radiojavan_likes\"] == 93209.000000][\"artistName\"]\n",
    "print(f\"Singer of the most liked song is: {var(ww)}\")"
   ]
  },
  {
   "cell_type": "code",
   "execution_count": 734,
   "id": "650002f3-6d8b-407b-a86e-b78b48bd68bf",
   "metadata": {},
   "outputs": [
    {
     "name": "stdout",
     "output_type": "stream",
     "text": [
      "The least popular song is: 40 Darajeh\n"
     ]
    }
   ],
   "source": [
    "# 3)The least popular\n",
    "r = data[data[\"popularity\"] == 1.000000][\"musicName\"]\n",
    "print(f\"The least popular song is: {var(r)}\")"
   ]
  },
  {
   "cell_type": "code",
   "execution_count": 736,
   "id": "22809006-68dd-4dba-aae4-8f9990486e2c",
   "metadata": {},
   "outputs": [
    {
     "name": "stdout",
     "output_type": "stream",
     "text": [
      "Singer of the least popular song is: Mohammad Alizadeh\n"
     ]
    }
   ],
   "source": [
    "rr =data[data[\"popularity\"] == 1.000000][\"artistName\"]\n",
    "print(f\"Singer of the least popular song is: {var(rr)}\")"
   ]
  },
  {
   "cell_type": "code",
   "execution_count": 738,
   "id": "bf1e2b99-100b-4dc0-b456-f60d84448128",
   "metadata": {},
   "outputs": [
    {
     "name": "stdout",
     "output_type": "stream",
     "text": [
      "The most popular song is: Un rêve merveilleux\n"
     ]
    }
   ],
   "source": [
    "# 3)The most popular\n",
    "t = data[data[\"popularity\"] == 64.000000][\"musicName\"]\n",
    "print(f\"The most popular song is: {var(t)}\")"
   ]
  },
  {
   "cell_type": "code",
   "execution_count": 740,
   "id": "f38eed5a-88de-4235-8245-b7c3343a95b7",
   "metadata": {},
   "outputs": [
    {
     "name": "stdout",
     "output_type": "stream",
     "text": [
      "Singer of the most popular song is: Octave Rivière\n"
     ]
    }
   ],
   "source": [
    "tt = data[data[\"popularity\"] == 64.000000][\"artistName\"]\n",
    "print(f\"Singer of the most popular song is: {var(tt)}\")"
   ]
  },
  {
   "cell_type": "code",
   "execution_count": 758,
   "id": "39e55ed1-c4f9-4105-9d7f-17fa95da67b5",
   "metadata": {},
   "outputs": [
    {
     "name": "stdout",
     "output_type": "stream",
     "text": [
      "Lyric of the most danceability song is:\n",
      "\n",
      "ز هرجا رد میشم همش حرف تو\n",
      "ولی از ترس آبروم\n",
      "من اصلا نمیارم به روم\n",
      "من که بد تنگه دلم\n",
      "انگار اصلا بی تو نمیتونم\n",
      "ولی تورو نمی دونم\n",
      "تورو نمیدونم\n",
      "خودت ببین چی کار کردی تو با من\n",
      "یادگاریات هنوز کنج اتاقن\n",
      "فکر تو هرشب داره میاد سراغم\n",
      "برگرد پا رو دله دیوونه ی خستم نذار\n",
      "برگرد واسه منه ساده تو بازی در نیار\n",
      "برگرد برگرد\n",
      "مثل تو کی با دلم بد کرد\n",
      "برگرد پا رو دله دیوونه ی خستم نذار\n",
      "برگرد واسه منه ساده تو بازی در نیار\n",
      "برگرد برگرد\n",
      "مثل تو کی با دلم بد کرد بدکرد\n",
      "فکر تو رد میشه از سرم ولی نمیدونم خودت کجایی\n",
      "کجایی\n",
      "لااقل چیزی بگو حرفی‌بزن نشونی ای عکسی صدایی\n",
      "خودت ببین چیکار کردی تو با من\n",
      "یادگاریات هنوز کنج اتاقن\n",
      "فکر تو هرشب داره میاد سراغم\n",
      "\n",
      "برگرد پا رو دل دیوونه ی خستم نذار\n",
      "برگرد واسه منه ساده تو بازی در نیار\n",
      "برگرد برگرد\n",
      "مثل تو کی با دلم بد کرد\n",
      "برگرد پا رو دله دیوونه ی خستم نذار\n",
      "برگرد واسه منه ساده تو بازی در نیار\n",
      "برگرد برگرد\n",
      "مثل تو کی با دلم بد کرد\n",
      "برگرد پا رو دل دیوونه ی خستم نذار\n",
      "برگرد واسه منه ساده تو بازی در نیار\n",
      "برگرد\n"
     ]
    }
   ],
   "source": [
    "# 4)The most danceability\n",
    "y = data[data[\"danceability\"] == 0.938000][\"lyric\"]\n",
    "print(f\"Lyric of the most danceability song is:\\n\\n{var(y)}\")"
   ]
  },
  {
   "cell_type": "code",
   "execution_count": 762,
   "id": "0cedb4ea-890a-4f73-b21f-b961b0b04522",
   "metadata": {},
   "outputs": [
    {
     "name": "stdout",
     "output_type": "stream",
     "text": [
      "Singer of the most danceability song is:Octave Rivière\n"
     ]
    }
   ],
   "source": [
    "yy = data[data[\"popularity\"] == 64.000000][\"artistName\"]\n",
    "print(f\"Singer of the most danceability song is:{var(yy)}\")"
   ]
  },
  {
   "cell_type": "code",
   "execution_count": 770,
   "id": "81ae3556-71a2-4598-825f-b5d79746e937",
   "metadata": {},
   "outputs": [
    {
     "name": "stdout",
     "output_type": "stream",
     "text": [
      "Radiojavan_likes    1.000000\n",
      "Radiojavan_play     0.899199\n",
      "popularity          0.386314\n",
      "danceability        0.104122\n",
      "energy              0.091210\n",
      "key                -0.032382\n",
      "loudness            0.091314\n",
      "mode               -0.013040\n",
      "speechiness         0.066407\n",
      "acousticness        0.035668\n",
      "instrumentalness   -0.028265\n",
      "liveness            0.079356\n",
      "valence             0.093013\n",
      "tempo              -0.033798\n",
      "duration_ms        -0.031757\n",
      "time_signature     -0.029627\n",
      "Name: Radiojavan_likes, dtype: float64\n",
      "\n",
      "----Radiojavan_likes mostly depends on Radiojavan_play & Radiojavan_play & popularity & danceability----\n"
     ]
    }
   ],
   "source": [
    "# 5)\n",
    "data_2 = data[[\"Radiojavan_likes\",\"Radiojavan_play\",\"popularity\",\"danceability\",\"energy\",\"key\",\"loudness\",\"mode\",\"speechiness\",\"acousticness\",\"instrumentalness\",\"liveness\",\"valence\",\"tempo\",\"duration_ms\",\"time_signature\"]].corr()\n",
    "print(data_2[\"Radiojavan_likes\"])\n",
    "print(\"\\n----Radiojavan_likes mostly depends on Radiojavan_play & Radiojavan_play & popularity & danceability----\")"
   ]
  },
  {
   "cell_type": "code",
   "execution_count": 186,
   "id": "26cebf5d-1525-45c1-8b55-9625740be785",
   "metadata": {},
   "outputs": [
    {
     "data": {
      "text/html": [
       "<div>\n",
       "<style scoped>\n",
       "    .dataframe tbody tr th:only-of-type {\n",
       "        vertical-align: middle;\n",
       "    }\n",
       "\n",
       "    .dataframe tbody tr th {\n",
       "        vertical-align: top;\n",
       "    }\n",
       "\n",
       "    .dataframe thead th {\n",
       "        text-align: right;\n",
       "    }\n",
       "</style>\n",
       "<table border=\"1\" class=\"dataframe\">\n",
       "  <thead>\n",
       "    <tr style=\"text-align: right;\">\n",
       "      <th></th>\n",
       "      <th>artistName</th>\n",
       "      <th>musicName</th>\n",
       "      <th>Radiojavan_play</th>\n",
       "      <th>Radiojavan_likes</th>\n",
       "      <th>pubdate</th>\n",
       "      <th>lyric</th>\n",
       "      <th>musicID</th>\n",
       "      <th>popularity</th>\n",
       "      <th>danceability</th>\n",
       "      <th>energy</th>\n",
       "      <th>...</th>\n",
       "      <th>liveness</th>\n",
       "      <th>valence</th>\n",
       "      <th>tempo</th>\n",
       "      <th>type</th>\n",
       "      <th>id</th>\n",
       "      <th>uri</th>\n",
       "      <th>track_href</th>\n",
       "      <th>analysis_url</th>\n",
       "      <th>duration_ms</th>\n",
       "      <th>time_signature</th>\n",
       "    </tr>\n",
       "  </thead>\n",
       "  <tbody>\n",
       "    <tr>\n",
       "      <th>84</th>\n",
       "      <td>Mohsen Chavoshi</td>\n",
       "      <td>Dele Man</td>\n",
       "      <td>30355672</td>\n",
       "      <td>35885</td>\n",
       "      <td>Jun 5 2016</td>\n",
       "      <td>قصد جفاها نکنی ور بکنی با دل من\\nوا دل من وا د...</td>\n",
       "      <td>7dqsFL2VSDBThSDsog1aaW</td>\n",
       "      <td>41</td>\n",
       "      <td>0.714</td>\n",
       "      <td>0.924</td>\n",
       "      <td>...</td>\n",
       "      <td>0.4870</td>\n",
       "      <td>0.840</td>\n",
       "      <td>124.996</td>\n",
       "      <td>audio_features</td>\n",
       "      <td>7dqsFL2VSDBThSDsog1aaW</td>\n",
       "      <td>spotify:track:7dqsFL2VSDBThSDsog1aaW</td>\n",
       "      <td>https://api.spotify.com/v1/tracks/7dqsFL2VSDBT...</td>\n",
       "      <td>https://api.spotify.com/v1/audio-analysis/7dqs...</td>\n",
       "      <td>236173</td>\n",
       "      <td>4</td>\n",
       "    </tr>\n",
       "    <tr>\n",
       "      <th>87</th>\n",
       "      <td>Mohsen Chavoshi</td>\n",
       "      <td>Bist Hezar Arezoo</td>\n",
       "      <td>30075816</td>\n",
       "      <td>38409</td>\n",
       "      <td>May 18 2017</td>\n",
       "      <td>ای همه خوبی تو را پس تو کرایی که را\\nای گل در ...</td>\n",
       "      <td>4CCZtwiHtN5USveZOd6A3P</td>\n",
       "      <td>39</td>\n",
       "      <td>0.673</td>\n",
       "      <td>0.821</td>\n",
       "      <td>...</td>\n",
       "      <td>0.3020</td>\n",
       "      <td>0.781</td>\n",
       "      <td>187.368</td>\n",
       "      <td>audio_features</td>\n",
       "      <td>4CCZtwiHtN5USveZOd6A3P</td>\n",
       "      <td>spotify:track:4CCZtwiHtN5USveZOd6A3P</td>\n",
       "      <td>https://api.spotify.com/v1/tracks/4CCZtwiHtN5U...</td>\n",
       "      <td>https://api.spotify.com/v1/audio-analysis/4CCZ...</td>\n",
       "      <td>190015</td>\n",
       "      <td>3</td>\n",
       "    </tr>\n",
       "    <tr>\n",
       "      <th>180</th>\n",
       "      <td>Mohsen Chavoshi</td>\n",
       "      <td>Be Rasme Yadegar</td>\n",
       "      <td>23144652</td>\n",
       "      <td>24259</td>\n",
       "      <td>Oct 3 2015</td>\n",
       "      <td>نشد با شاخه هام بغل کنم ترو\\nنشد نشد نشد برو ب...</td>\n",
       "      <td>00JsksgsiqehaZ7bzbEEoN</td>\n",
       "      <td>18</td>\n",
       "      <td>0.537</td>\n",
       "      <td>0.650</td>\n",
       "      <td>...</td>\n",
       "      <td>0.2000</td>\n",
       "      <td>0.454</td>\n",
       "      <td>99.989</td>\n",
       "      <td>audio_features</td>\n",
       "      <td>00JsksgsiqehaZ7bzbEEoN</td>\n",
       "      <td>spotify:track:00JsksgsiqehaZ7bzbEEoN</td>\n",
       "      <td>https://api.spotify.com/v1/tracks/00Jsksgsiqeh...</td>\n",
       "      <td>https://api.spotify.com/v1/audio-analysis/00Js...</td>\n",
       "      <td>301897</td>\n",
       "      <td>3</td>\n",
       "    </tr>\n",
       "    <tr>\n",
       "      <th>235</th>\n",
       "      <td>Mohsen Chavoshi</td>\n",
       "      <td>Amire Bi Gazand</td>\n",
       "      <td>20416971</td>\n",
       "      <td>27746</td>\n",
       "      <td>Jun 5 2016</td>\n",
       "      <td>عجب سروی، عجب ماهی، عجب یاقوت و مرجانی\\nعجب جس...</td>\n",
       "      <td>3pW1z5NNzEir0pakGnnyD8</td>\n",
       "      <td>28</td>\n",
       "      <td>0.487</td>\n",
       "      <td>0.662</td>\n",
       "      <td>...</td>\n",
       "      <td>0.0324</td>\n",
       "      <td>0.387</td>\n",
       "      <td>139.426</td>\n",
       "      <td>audio_features</td>\n",
       "      <td>3pW1z5NNzEir0pakGnnyD8</td>\n",
       "      <td>spotify:track:3pW1z5NNzEir0pakGnnyD8</td>\n",
       "      <td>https://api.spotify.com/v1/tracks/3pW1z5NNzEir...</td>\n",
       "      <td>https://api.spotify.com/v1/audio-analysis/3pW1...</td>\n",
       "      <td>239647</td>\n",
       "      <td>4</td>\n",
       "    </tr>\n",
       "    <tr>\n",
       "      <th>253</th>\n",
       "      <td>Mohsen Chavoshi</td>\n",
       "      <td>Delbar</td>\n",
       "      <td>19490358</td>\n",
       "      <td>24093</td>\n",
       "      <td>Apr 14 2018</td>\n",
       "      <td>بستد دل و دین از من ،از من دل و دین بستد\\nکافر...</td>\n",
       "      <td>2W3D0bEZUJBNQJXwmPMngS</td>\n",
       "      <td>32</td>\n",
       "      <td>0.828</td>\n",
       "      <td>0.803</td>\n",
       "      <td>...</td>\n",
       "      <td>0.1110</td>\n",
       "      <td>0.914</td>\n",
       "      <td>127.008</td>\n",
       "      <td>audio_features</td>\n",
       "      <td>2W3D0bEZUJBNQJXwmPMngS</td>\n",
       "      <td>spotify:track:2W3D0bEZUJBNQJXwmPMngS</td>\n",
       "      <td>https://api.spotify.com/v1/tracks/2W3D0bEZUJBN...</td>\n",
       "      <td>https://api.spotify.com/v1/audio-analysis/2W3D...</td>\n",
       "      <td>222407</td>\n",
       "      <td>4</td>\n",
       "    </tr>\n",
       "    <tr>\n",
       "      <th>290</th>\n",
       "      <td>Mohsen Chavoshi</td>\n",
       "      <td>Shahrzad</td>\n",
       "      <td>18192618</td>\n",
       "      <td>22737</td>\n",
       "      <td>Dec 27 2015</td>\n",
       "      <td>تو رو از دور دلم دید اما\\nنمی دونست چه سرابی د...</td>\n",
       "      <td>74FnFvMClYvqEoExqm9iJm</td>\n",
       "      <td>19</td>\n",
       "      <td>0.544</td>\n",
       "      <td>0.659</td>\n",
       "      <td>...</td>\n",
       "      <td>0.1670</td>\n",
       "      <td>0.215</td>\n",
       "      <td>124.072</td>\n",
       "      <td>audio_features</td>\n",
       "      <td>74FnFvMClYvqEoExqm9iJm</td>\n",
       "      <td>spotify:track:74FnFvMClYvqEoExqm9iJm</td>\n",
       "      <td>https://api.spotify.com/v1/tracks/74FnFvMClYvq...</td>\n",
       "      <td>https://api.spotify.com/v1/audio-analysis/74Fn...</td>\n",
       "      <td>239830</td>\n",
       "      <td>4</td>\n",
       "    </tr>\n",
       "    <tr>\n",
       "      <th>334</th>\n",
       "      <td>Mohsen Chavoshi</td>\n",
       "      <td>Sheydaei</td>\n",
       "      <td>16806050</td>\n",
       "      <td>22154</td>\n",
       "      <td>Jun 5 2016</td>\n",
       "      <td>بیا بیا که شدم در غم تو سودایی\\nدرآ درآ که به ...</td>\n",
       "      <td>4iCfnsAKNFuE8xu3MrEtQw</td>\n",
       "      <td>37</td>\n",
       "      <td>0.731</td>\n",
       "      <td>0.851</td>\n",
       "      <td>...</td>\n",
       "      <td>0.1800</td>\n",
       "      <td>0.716</td>\n",
       "      <td>126.024</td>\n",
       "      <td>audio_features</td>\n",
       "      <td>4iCfnsAKNFuE8xu3MrEtQw</td>\n",
       "      <td>spotify:track:4iCfnsAKNFuE8xu3MrEtQw</td>\n",
       "      <td>https://api.spotify.com/v1/tracks/4iCfnsAKNFuE...</td>\n",
       "      <td>https://api.spotify.com/v1/audio-analysis/4iCf...</td>\n",
       "      <td>263967</td>\n",
       "      <td>4</td>\n",
       "    </tr>\n",
       "    <tr>\n",
       "      <th>406</th>\n",
       "      <td>Mohsen Chavoshi</td>\n",
       "      <td>Divooneh</td>\n",
       "      <td>15041275</td>\n",
       "      <td>25690</td>\n",
       "      <td>May 16 2016</td>\n",
       "      <td>دوست دارم نگات کنم\\nتا که بی حال بشم\\nتو ازم د...</td>\n",
       "      <td>69ZG2hCzNzyQkROrP5rMj7</td>\n",
       "      <td>22</td>\n",
       "      <td>0.328</td>\n",
       "      <td>0.378</td>\n",
       "      <td>...</td>\n",
       "      <td>0.0977</td>\n",
       "      <td>0.336</td>\n",
       "      <td>129.656</td>\n",
       "      <td>audio_features</td>\n",
       "      <td>69ZG2hCzNzyQkROrP5rMj7</td>\n",
       "      <td>spotify:track:69ZG2hCzNzyQkROrP5rMj7</td>\n",
       "      <td>https://api.spotify.com/v1/tracks/69ZG2hCzNzyQ...</td>\n",
       "      <td>https://api.spotify.com/v1/audio-analysis/69ZG...</td>\n",
       "      <td>278178</td>\n",
       "      <td>4</td>\n",
       "    </tr>\n",
       "    <tr>\n",
       "      <th>413</th>\n",
       "      <td>Mohsen Chavoshi</td>\n",
       "      <td>Zendan</td>\n",
       "      <td>14842507</td>\n",
       "      <td>25204</td>\n",
       "      <td>Feb 26 2017</td>\n",
       "      <td>بمیرید بمیرید در این عشق بمیرید\\nدر این عشق چو...</td>\n",
       "      <td>6ZJRwqQamwKffwUVRZqAOZ</td>\n",
       "      <td>36</td>\n",
       "      <td>0.476</td>\n",
       "      <td>0.843</td>\n",
       "      <td>...</td>\n",
       "      <td>0.4890</td>\n",
       "      <td>0.656</td>\n",
       "      <td>120.181</td>\n",
       "      <td>audio_features</td>\n",
       "      <td>6ZJRwqQamwKffwUVRZqAOZ</td>\n",
       "      <td>spotify:track:6ZJRwqQamwKffwUVRZqAOZ</td>\n",
       "      <td>https://api.spotify.com/v1/tracks/6ZJRwqQamwKf...</td>\n",
       "      <td>https://api.spotify.com/v1/audio-analysis/6ZJR...</td>\n",
       "      <td>232124</td>\n",
       "      <td>4</td>\n",
       "    </tr>\n",
       "  </tbody>\n",
       "</table>\n",
       "<p>9 rows × 26 columns</p>\n",
       "</div>"
      ],
      "text/plain": [
       "          artistName          musicName  Radiojavan_play  Radiojavan_likes  \\\n",
       "84   Mohsen Chavoshi           Dele Man         30355672             35885   \n",
       "87   Mohsen Chavoshi  Bist Hezar Arezoo         30075816             38409   \n",
       "180  Mohsen Chavoshi   Be Rasme Yadegar         23144652             24259   \n",
       "235  Mohsen Chavoshi    Amire Bi Gazand         20416971             27746   \n",
       "253  Mohsen Chavoshi             Delbar         19490358             24093   \n",
       "290  Mohsen Chavoshi           Shahrzad         18192618             22737   \n",
       "334  Mohsen Chavoshi           Sheydaei         16806050             22154   \n",
       "406  Mohsen Chavoshi           Divooneh         15041275             25690   \n",
       "413  Mohsen Chavoshi             Zendan         14842507             25204   \n",
       "\n",
       "         pubdate                                              lyric  \\\n",
       "84    Jun 5 2016  قصد جفاها نکنی ور بکنی با دل من\\nوا دل من وا د...   \n",
       "87   May 18 2017  ای همه خوبی تو را پس تو کرایی که را\\nای گل در ...   \n",
       "180   Oct 3 2015  نشد با شاخه هام بغل کنم ترو\\nنشد نشد نشد برو ب...   \n",
       "235   Jun 5 2016  عجب سروی، عجب ماهی، عجب یاقوت و مرجانی\\nعجب جس...   \n",
       "253  Apr 14 2018  بستد دل و دین از من ،از من دل و دین بستد\\nکافر...   \n",
       "290  Dec 27 2015  تو رو از دور دلم دید اما\\nنمی دونست چه سرابی د...   \n",
       "334   Jun 5 2016  بیا بیا که شدم در غم تو سودایی\\nدرآ درآ که به ...   \n",
       "406  May 16 2016  دوست دارم نگات کنم\\nتا که بی حال بشم\\nتو ازم د...   \n",
       "413  Feb 26 2017  بمیرید بمیرید در این عشق بمیرید\\nدر این عشق چو...   \n",
       "\n",
       "                    musicID  popularity  danceability  energy  ...  liveness  \\\n",
       "84   7dqsFL2VSDBThSDsog1aaW          41         0.714   0.924  ...    0.4870   \n",
       "87   4CCZtwiHtN5USveZOd6A3P          39         0.673   0.821  ...    0.3020   \n",
       "180  00JsksgsiqehaZ7bzbEEoN          18         0.537   0.650  ...    0.2000   \n",
       "235  3pW1z5NNzEir0pakGnnyD8          28         0.487   0.662  ...    0.0324   \n",
       "253  2W3D0bEZUJBNQJXwmPMngS          32         0.828   0.803  ...    0.1110   \n",
       "290  74FnFvMClYvqEoExqm9iJm          19         0.544   0.659  ...    0.1670   \n",
       "334  4iCfnsAKNFuE8xu3MrEtQw          37         0.731   0.851  ...    0.1800   \n",
       "406  69ZG2hCzNzyQkROrP5rMj7          22         0.328   0.378  ...    0.0977   \n",
       "413  6ZJRwqQamwKffwUVRZqAOZ          36         0.476   0.843  ...    0.4890   \n",
       "\n",
       "     valence    tempo            type                      id  \\\n",
       "84     0.840  124.996  audio_features  7dqsFL2VSDBThSDsog1aaW   \n",
       "87     0.781  187.368  audio_features  4CCZtwiHtN5USveZOd6A3P   \n",
       "180    0.454   99.989  audio_features  00JsksgsiqehaZ7bzbEEoN   \n",
       "235    0.387  139.426  audio_features  3pW1z5NNzEir0pakGnnyD8   \n",
       "253    0.914  127.008  audio_features  2W3D0bEZUJBNQJXwmPMngS   \n",
       "290    0.215  124.072  audio_features  74FnFvMClYvqEoExqm9iJm   \n",
       "334    0.716  126.024  audio_features  4iCfnsAKNFuE8xu3MrEtQw   \n",
       "406    0.336  129.656  audio_features  69ZG2hCzNzyQkROrP5rMj7   \n",
       "413    0.656  120.181  audio_features  6ZJRwqQamwKffwUVRZqAOZ   \n",
       "\n",
       "                                      uri  \\\n",
       "84   spotify:track:7dqsFL2VSDBThSDsog1aaW   \n",
       "87   spotify:track:4CCZtwiHtN5USveZOd6A3P   \n",
       "180  spotify:track:00JsksgsiqehaZ7bzbEEoN   \n",
       "235  spotify:track:3pW1z5NNzEir0pakGnnyD8   \n",
       "253  spotify:track:2W3D0bEZUJBNQJXwmPMngS   \n",
       "290  spotify:track:74FnFvMClYvqEoExqm9iJm   \n",
       "334  spotify:track:4iCfnsAKNFuE8xu3MrEtQw   \n",
       "406  spotify:track:69ZG2hCzNzyQkROrP5rMj7   \n",
       "413  spotify:track:6ZJRwqQamwKffwUVRZqAOZ   \n",
       "\n",
       "                                            track_href  \\\n",
       "84   https://api.spotify.com/v1/tracks/7dqsFL2VSDBT...   \n",
       "87   https://api.spotify.com/v1/tracks/4CCZtwiHtN5U...   \n",
       "180  https://api.spotify.com/v1/tracks/00Jsksgsiqeh...   \n",
       "235  https://api.spotify.com/v1/tracks/3pW1z5NNzEir...   \n",
       "253  https://api.spotify.com/v1/tracks/2W3D0bEZUJBN...   \n",
       "290  https://api.spotify.com/v1/tracks/74FnFvMClYvq...   \n",
       "334  https://api.spotify.com/v1/tracks/4iCfnsAKNFuE...   \n",
       "406  https://api.spotify.com/v1/tracks/69ZG2hCzNzyQ...   \n",
       "413  https://api.spotify.com/v1/tracks/6ZJRwqQamwKf...   \n",
       "\n",
       "                                          analysis_url  duration_ms  \\\n",
       "84   https://api.spotify.com/v1/audio-analysis/7dqs...       236173   \n",
       "87   https://api.spotify.com/v1/audio-analysis/4CCZ...       190015   \n",
       "180  https://api.spotify.com/v1/audio-analysis/00Js...       301897   \n",
       "235  https://api.spotify.com/v1/audio-analysis/3pW1...       239647   \n",
       "253  https://api.spotify.com/v1/audio-analysis/2W3D...       222407   \n",
       "290  https://api.spotify.com/v1/audio-analysis/74Fn...       239830   \n",
       "334  https://api.spotify.com/v1/audio-analysis/4iCf...       263967   \n",
       "406  https://api.spotify.com/v1/audio-analysis/69ZG...       278178   \n",
       "413  https://api.spotify.com/v1/audio-analysis/6ZJR...       232124   \n",
       "\n",
       "    time_signature  \n",
       "84               4  \n",
       "87               3  \n",
       "180              3  \n",
       "235              4  \n",
       "253              4  \n",
       "290              4  \n",
       "334              4  \n",
       "406              4  \n",
       "413              4  \n",
       "\n",
       "[9 rows x 26 columns]"
      ]
     },
     "execution_count": 186,
     "metadata": {},
     "output_type": "execute_result"
    }
   ],
   "source": [
    "# 6)\n",
    "data[data[\"artistName\"] == \"Mohsen Chavoshi\"]"
   ]
  },
  {
   "cell_type": "code",
   "execution_count": 772,
   "id": "96507ac8-4133-4b31-b07d-10a196fc2a97",
   "metadata": {},
   "outputs": [
    {
     "name": "stdout",
     "output_type": "stream",
     "text": [
      "The most popular Mohsen Chavoshi song is: Dele Man\n"
     ]
    }
   ],
   "source": [
    "# 6)Mohsen Chavoshi's most popular song\n",
    "u = data[(data[\"artistName\"] == \"Mohsen Chavoshi\") & (data[\"popularity\"] == 41)][\"musicName\"]\n",
    "print(f\"Mohsen Chavoshi's most popular song is: {var(u)}\")"
   ]
  },
  {
   "cell_type": "code",
   "execution_count": 774,
   "id": "aa7aa0eb-12f0-4f39-9a94-bdf400120682",
   "metadata": {},
   "outputs": [
    {
     "name": "stdout",
     "output_type": "stream",
     "text": [
      "Mohsen Chavoshi's most liked song is: Bist Hezar Arezoo\n"
     ]
    }
   ],
   "source": [
    "# 6)Mohsen Chavoshi's most liked song\n",
    "uu = data[(data[\"artistName\"] == \"Mohsen Chavoshi\") & (data[\"Radiojavan_likes\"] == 38409)][\"musicName\"]\n",
    "print(f\"Mohsen Chavoshi's most liked song is: {var(uu)}\")"
   ]
  },
  {
   "cell_type": "code",
   "execution_count": 776,
   "id": "313ce601-5cc6-4917-98b4-d056ebae9321",
   "metadata": {},
   "outputs": [
    {
     "name": "stdout",
     "output_type": "stream",
     "text": [
      "The most played song is: Gentleman\n"
     ]
    }
   ],
   "source": [
    "# 7)The most played\n",
    "i = data[data[\"Radiojavan_play\"] == 97011366][\"musicName\"]\n",
    "print(f\"The most played song is: {var(i)}\")"
   ]
  },
  {
   "cell_type": "code",
   "execution_count": 778,
   "id": "2408cddc-a0ca-419a-8c40-1016a32c1e61",
   "metadata": {},
   "outputs": [
    {
     "name": "stdout",
     "output_type": "stream",
     "text": [
      "Sinfer of the most played song is: Sasy\n"
     ]
    }
   ],
   "source": [
    "ii = data[data[\"Radiojavan_play\"] == 97011366][\"artistName\"]\n",
    "print(f\"Singer of the most played song is: {var(ii)}\")"
   ]
  },
  {
   "cell_type": "code",
   "execution_count": 293,
   "id": "4ebc353a-c175-438a-9a5a-3227d4c44c50",
   "metadata": {},
   "outputs": [],
   "source": [
    "# 8)Comparison of several singer\n",
    "def table(artist,criteria):\n",
    "    return data[data[\"artistName\"] == artist][criteria].mean()\n",
    "\n",
    "info = [[table(\"Ebi\",\"Radiojavan_likes\"),table(\"Ebi\",\"danceability\"),table(\"Ebi\",\"popularity\"),table(\"Ebi\",\"Radiojavan_play\")],\n",
    "        [table(\"Moein\",\"Radiojavan_likes\"),table(\"Moein\",\"danceability\"),table(\"Moein\",\"popularity\"),table(\"Moein\",\"Radiojavan_play\")],\n",
    "        [table(\"Hayedeh\",\"Radiojavan_likes\"),table(\"Hayedeh\",\"danceability\"),table(\"Hayedeh\",\"popularity\"),table(\"Hayedeh\",\"Radiojavan_play\")],\n",
    "        [table(\"Siavash Ghomayshi\",\"Radiojavan_likes\"),table(\"Siavash Ghomayshi\",\"danceability\"),table(\"Siavash Ghomayshi\",\"popularity\"),table(\"Siavash Ghomayshi\",\"Radiojavan_play\")],\n",
    "        [table(\"Aref\",\"Radiojavan_likes\"),table(\"Aref\",\"danceability\"),table(\"Aref\",\"popularity\"),table(\"Aref\",\"Radiojavan_play\")],\n",
    "        [table(\"Dariush\",\"Radiojavan_likes\"),table(\"Dariush\",\"danceability\"),table(\"Dariush\",\"popularity\"),table(\"Dariush\",\"Radiojavan_play\")],\n",
    "        [table(\"Googoosh\",\"Radiojavan_likes\"),table(\"Googoosh\",\"danceability\"),table(\"Googoosh\",\"popularity\"),table(\"Googoosh\",\"Radiojavan_play\")]]"
   ]
  },
  {
   "cell_type": "code",
   "execution_count": 784,
   "id": "0bd8d813-de25-4f87-94c1-52a2595caad9",
   "metadata": {},
   "outputs": [
    {
     "data": {
      "text/html": [
       "<div>\n",
       "<style scoped>\n",
       "    .dataframe tbody tr th:only-of-type {\n",
       "        vertical-align: middle;\n",
       "    }\n",
       "\n",
       "    .dataframe tbody tr th {\n",
       "        vertical-align: top;\n",
       "    }\n",
       "\n",
       "    .dataframe thead th {\n",
       "        text-align: right;\n",
       "    }\n",
       "</style>\n",
       "<table border=\"1\" class=\"dataframe\">\n",
       "  <thead>\n",
       "    <tr style=\"text-align: right;\">\n",
       "      <th></th>\n",
       "      <th>Radiojavan_likes_mean</th>\n",
       "      <th>danceability_mean</th>\n",
       "      <th>popularity_mean</th>\n",
       "      <th>Radiojavan_play_mean</th>\n",
       "    </tr>\n",
       "  </thead>\n",
       "  <tbody>\n",
       "    <tr>\n",
       "      <th>Ebi</th>\n",
       "      <td>18517.333333</td>\n",
       "      <td>0.534467</td>\n",
       "      <td>34.400000</td>\n",
       "      <td>1.971951e+07</td>\n",
       "    </tr>\n",
       "    <tr>\n",
       "      <th>Moein</th>\n",
       "      <td>16762.214286</td>\n",
       "      <td>0.627500</td>\n",
       "      <td>23.428571</td>\n",
       "      <td>1.613184e+07</td>\n",
       "    </tr>\n",
       "    <tr>\n",
       "      <th>Hayede</th>\n",
       "      <td>14536.714286</td>\n",
       "      <td>0.548286</td>\n",
       "      <td>30.428571</td>\n",
       "      <td>1.889543e+07</td>\n",
       "    </tr>\n",
       "    <tr>\n",
       "      <th>Siyavash Ghomeishi</th>\n",
       "      <td>18899.875000</td>\n",
       "      <td>0.613125</td>\n",
       "      <td>29.125000</td>\n",
       "      <td>1.639987e+07</td>\n",
       "    </tr>\n",
       "    <tr>\n",
       "      <th>Aref</th>\n",
       "      <td>40249.500000</td>\n",
       "      <td>0.674500</td>\n",
       "      <td>28.500000</td>\n",
       "      <td>3.380853e+07</td>\n",
       "    </tr>\n",
       "    <tr>\n",
       "      <th>Daryush</th>\n",
       "      <td>18283.333333</td>\n",
       "      <td>0.439000</td>\n",
       "      <td>24.666667</td>\n",
       "      <td>1.374444e+07</td>\n",
       "    </tr>\n",
       "    <tr>\n",
       "      <th>Googoosh</th>\n",
       "      <td>16959.000000</td>\n",
       "      <td>0.576800</td>\n",
       "      <td>26.800000</td>\n",
       "      <td>1.436555e+07</td>\n",
       "    </tr>\n",
       "  </tbody>\n",
       "</table>\n",
       "</div>"
      ],
      "text/plain": [
       "                    Radiojavan_likes_mean  danceability_mean  popularity_mean  \\\n",
       "Ebi                          18517.333333           0.534467        34.400000   \n",
       "Moein                        16762.214286           0.627500        23.428571   \n",
       "Hayede                       14536.714286           0.548286        30.428571   \n",
       "Siyavash Ghomeishi           18899.875000           0.613125        29.125000   \n",
       "Aref                         40249.500000           0.674500        28.500000   \n",
       "Daryush                      18283.333333           0.439000        24.666667   \n",
       "Googoosh                     16959.000000           0.576800        26.800000   \n",
       "\n",
       "                    Radiojavan_play_mean  \n",
       "Ebi                         1.971951e+07  \n",
       "Moein                       1.613184e+07  \n",
       "Hayede                      1.889543e+07  \n",
       "Siyavash Ghomeishi          1.639987e+07  \n",
       "Aref                        3.380853e+07  \n",
       "Daryush                     1.374444e+07  \n",
       "Googoosh                    1.436555e+07  "
      ]
     },
     "execution_count": 784,
     "metadata": {},
     "output_type": "execute_result"
    }
   ],
   "source": [
    "df = pd.DataFrame(info,index = [\"Ebi\",\"Moein\",\"Hayede\",\"Siyavash Ghomeishi\",\"Aref\",\"Daryush\",\"Googoosh\"], columns= [\"Radiojavan_likes_mean\",\"danceability_mean\",\"popularity_mean\",\"Radiojavan_play_mean\"])\n",
    "df"
   ]
  },
  {
   "cell_type": "code",
   "execution_count": 786,
   "id": "107e5b88-2707-4ab7-b180-761c8ff3e72e",
   "metadata": {},
   "outputs": [
    {
     "name": "stdout",
     "output_type": "stream",
     "text": [
      "The singer that has the most Radiojavan like is: Aref\n",
      "The singer that has the most Radiojavan danceability is: Aref\n",
      "The singer that has the most Radiojavan popularity is: Ebi\n",
      "The singer that has the most Radiojavan play is: Aref\n"
     ]
    }
   ],
   "source": [
    "print(\"The singer that has the most Radiojavan like is: Aref\")\n",
    "print(\"The singer that has the most Radiojavan danceability is: Aref\")\n",
    "print(\"The singer that has the most Radiojavan popularity is: Ebi\")\n",
    "print(\"The singer that has the most Radiojavan play is: Aref\")"
   ]
  },
  {
   "cell_type": "code",
   "execution_count": 325,
   "id": "8ec8f151-095c-482a-a21e-374d18cc7e31",
   "metadata": {
    "scrolled": true
   },
   "outputs": [
    {
     "data": {
      "text/html": [
       "<div>\n",
       "<style scoped>\n",
       "    .dataframe tbody tr th:only-of-type {\n",
       "        vertical-align: middle;\n",
       "    }\n",
       "\n",
       "    .dataframe tbody tr th {\n",
       "        vertical-align: top;\n",
       "    }\n",
       "\n",
       "    .dataframe thead th {\n",
       "        text-align: right;\n",
       "    }\n",
       "</style>\n",
       "<table border=\"1\" class=\"dataframe\">\n",
       "  <thead>\n",
       "    <tr style=\"text-align: right;\">\n",
       "      <th></th>\n",
       "      <th>artistName</th>\n",
       "      <th>musicName</th>\n",
       "      <th>Radiojavan_play</th>\n",
       "      <th>Radiojavan_likes</th>\n",
       "      <th>pubdate</th>\n",
       "      <th>lyric</th>\n",
       "      <th>musicID</th>\n",
       "      <th>popularity</th>\n",
       "      <th>danceability</th>\n",
       "      <th>energy</th>\n",
       "      <th>...</th>\n",
       "      <th>liveness</th>\n",
       "      <th>valence</th>\n",
       "      <th>tempo</th>\n",
       "      <th>type</th>\n",
       "      <th>id</th>\n",
       "      <th>uri</th>\n",
       "      <th>track_href</th>\n",
       "      <th>analysis_url</th>\n",
       "      <th>duration_ms</th>\n",
       "      <th>time_signature</th>\n",
       "    </tr>\n",
       "  </thead>\n",
       "  <tbody>\n",
       "    <tr>\n",
       "      <th>561</th>\n",
       "      <td>Mohammadreza Golzar</td>\n",
       "      <td>Koja Beram</td>\n",
       "      <td>11984963</td>\n",
       "      <td>17037</td>\n",
       "      <td>Jul 6 2016</td>\n",
       "      <td>میدونستم، تو رو از دست میدم\\nیه روز این عکسارو...</td>\n",
       "      <td>7eJKvL0vsyK3dcBPGq2RuR</td>\n",
       "      <td>21</td>\n",
       "      <td>0.563</td>\n",
       "      <td>0.700</td>\n",
       "      <td>...</td>\n",
       "      <td>0.377</td>\n",
       "      <td>0.432</td>\n",
       "      <td>136.023</td>\n",
       "      <td>audio_features</td>\n",
       "      <td>7eJKvL0vsyK3dcBPGq2RuR</td>\n",
       "      <td>spotify:track:7eJKvL0vsyK3dcBPGq2RuR</td>\n",
       "      <td>https://api.spotify.com/v1/tracks/7eJKvL0vsyK3...</td>\n",
       "      <td>https://api.spotify.com/v1/audio-analysis/7eJK...</td>\n",
       "      <td>233247</td>\n",
       "      <td>4</td>\n",
       "    </tr>\n",
       "    <tr>\n",
       "      <th>572</th>\n",
       "      <td>Mohammadreza Golzar</td>\n",
       "      <td>Chetori Divooneh</td>\n",
       "      <td>11803518</td>\n",
       "      <td>20486</td>\n",
       "      <td>Jan 15 2017</td>\n",
       "      <td>چطوری دیوونه بهت خوش میگذره بی من یا نه\\nچطوری...</td>\n",
       "      <td>1YFOlo6LKiCCiGdNhv58xm</td>\n",
       "      <td>20</td>\n",
       "      <td>0.755</td>\n",
       "      <td>0.908</td>\n",
       "      <td>...</td>\n",
       "      <td>0.136</td>\n",
       "      <td>0.671</td>\n",
       "      <td>116.059</td>\n",
       "      <td>audio_features</td>\n",
       "      <td>1YFOlo6LKiCCiGdNhv58xm</td>\n",
       "      <td>spotify:track:1YFOlo6LKiCCiGdNhv58xm</td>\n",
       "      <td>https://api.spotify.com/v1/tracks/1YFOlo6LKiCC...</td>\n",
       "      <td>https://api.spotify.com/v1/audio-analysis/1YFO...</td>\n",
       "      <td>196023</td>\n",
       "      <td>4</td>\n",
       "    </tr>\n",
       "  </tbody>\n",
       "</table>\n",
       "<p>2 rows × 26 columns</p>\n",
       "</div>"
      ],
      "text/plain": [
       "              artistName         musicName  Radiojavan_play  Radiojavan_likes  \\\n",
       "561  Mohammadreza Golzar        Koja Beram         11984963             17037   \n",
       "572  Mohammadreza Golzar  Chetori Divooneh         11803518             20486   \n",
       "\n",
       "         pubdate                                              lyric  \\\n",
       "561   Jul 6 2016  میدونستم، تو رو از دست میدم\\nیه روز این عکسارو...   \n",
       "572  Jan 15 2017  چطوری دیوونه بهت خوش میگذره بی من یا نه\\nچطوری...   \n",
       "\n",
       "                    musicID  popularity  danceability  energy  ...  liveness  \\\n",
       "561  7eJKvL0vsyK3dcBPGq2RuR          21         0.563   0.700  ...     0.377   \n",
       "572  1YFOlo6LKiCCiGdNhv58xm          20         0.755   0.908  ...     0.136   \n",
       "\n",
       "     valence    tempo            type                      id  \\\n",
       "561    0.432  136.023  audio_features  7eJKvL0vsyK3dcBPGq2RuR   \n",
       "572    0.671  116.059  audio_features  1YFOlo6LKiCCiGdNhv58xm   \n",
       "\n",
       "                                      uri  \\\n",
       "561  spotify:track:7eJKvL0vsyK3dcBPGq2RuR   \n",
       "572  spotify:track:1YFOlo6LKiCCiGdNhv58xm   \n",
       "\n",
       "                                            track_href  \\\n",
       "561  https://api.spotify.com/v1/tracks/7eJKvL0vsyK3...   \n",
       "572  https://api.spotify.com/v1/tracks/1YFOlo6LKiCC...   \n",
       "\n",
       "                                          analysis_url  duration_ms  \\\n",
       "561  https://api.spotify.com/v1/audio-analysis/7eJK...       233247   \n",
       "572  https://api.spotify.com/v1/audio-analysis/1YFO...       196023   \n",
       "\n",
       "    time_signature  \n",
       "561              4  \n",
       "572              4  \n",
       "\n",
       "[2 rows x 26 columns]"
      ]
     },
     "execution_count": 325,
     "metadata": {},
     "output_type": "execute_result"
    }
   ],
   "source": [
    "# 9)\n",
    "data[data[\"artistName\"] == \"Mohammadreza Golzar\"]"
   ]
  },
  {
   "cell_type": "code",
   "execution_count": 377,
   "id": "c2b322b6-8908-45f2-93bd-10ac3b79962b",
   "metadata": {},
   "outputs": [
    {
     "name": "stdout",
     "output_type": "stream",
     "text": [
      "Get out of here bache khoshgel\n"
     ]
    }
   ],
   "source": [
    "# 9)Golzar test\n",
    "a = 0\n",
    "for i in data[data[\"artistName\"] == \"Mohammadreza Golzar\"][\"Radiojavan_likes\"]:\n",
    "    if i < data[\"Radiojavan_likes\"].mean():\n",
    "        a += 1\n",
    "for i in data[data[\"artistName\"] == \"Mohammadreza Golzar\"][\"Radiojavan_play\"]:\n",
    "    if i < data[\"Radiojavan_play\"].mean():\n",
    "        a += 1\n",
    "for i in data[data[\"artistName\"] == \"Mohammadreza Golzar\"][\"popularity\"]:\n",
    "    if i < data[\"popularity\"].mean():\n",
    "        a += 1\n",
    "if a >= 4:\n",
    "    print(\"Get out of here bache khoshgel\")"
   ]
  },
  {
   "cell_type": "code",
   "execution_count": 375,
   "id": "9662bcdb-9546-4be3-b13f-c4570ce9d031",
   "metadata": {},
   "outputs": [
    {
     "data": {
      "text/html": [
       "<div>\n",
       "<style scoped>\n",
       "    .dataframe tbody tr th:only-of-type {\n",
       "        vertical-align: middle;\n",
       "    }\n",
       "\n",
       "    .dataframe tbody tr th {\n",
       "        vertical-align: top;\n",
       "    }\n",
       "\n",
       "    .dataframe thead th {\n",
       "        text-align: right;\n",
       "    }\n",
       "</style>\n",
       "<table border=\"1\" class=\"dataframe\">\n",
       "  <thead>\n",
       "    <tr style=\"text-align: right;\">\n",
       "      <th></th>\n",
       "      <th>popularity</th>\n",
       "      <th>Radiojavan_likes</th>\n",
       "      <th>Radiojavan_play</th>\n",
       "    </tr>\n",
       "  </thead>\n",
       "  <tbody>\n",
       "    <tr>\n",
       "      <th>Kamran &amp; Hooman</th>\n",
       "      <td>39.0</td>\n",
       "      <td>24931.0</td>\n",
       "      <td>21476034.0</td>\n",
       "    </tr>\n",
       "    <tr>\n",
       "      <th>7 Band</th>\n",
       "      <td>20.0</td>\n",
       "      <td>17283.0</td>\n",
       "      <td>13922123.0</td>\n",
       "    </tr>\n",
       "  </tbody>\n",
       "</table>\n",
       "</div>"
      ],
      "text/plain": [
       "                 popularity  Radiojavan_likes  Radiojavan_play\n",
       "Kamran & Hooman        39.0           24931.0       21476034.0\n",
       "7 Band                 20.0           17283.0       13922123.0"
      ]
     },
     "execution_count": 375,
     "metadata": {},
     "output_type": "execute_result"
    }
   ],
   "source": [
    "# 10)Comparison between kamran hooman and 7band\n",
    "list = [[table(\"Kamran & Hooman\",\"popularity\"),table(\"Kamran & Hooman\",\"Radiojavan_likes\"),table(\"Kamran & Hooman\",\"Radiojavan_play\")],\n",
    "        [table(\"7th Band\",\"popularity\"),table(\"7th Band\",\"Radiojavan_likes\"),table(\"7th Band\",\"Radiojavan_play\")]]\n",
    "\n",
    "data_frame = pd.DataFrame(list,index = [\"Kamran & Hooman\",\"7 Band\"],columns = [\"popularity\",\"Radiojavan_likes\",\"Radiojavan_play\"])\n",
    "data_frame"
   ]
  },
  {
   "cell_type": "code",
   "execution_count": 788,
   "id": "abb49214-cbcb-4b4a-b7aa-cf6c5f592137",
   "metadata": {},
   "outputs": [
    {
     "name": "stdout",
     "output_type": "stream",
     "text": [
      "Kamran & Hooman are more popular than 7 Band\n"
     ]
    }
   ],
   "source": [
    "print(\"Kamran & Hooman are more popular than 7 Band\")"
   ]
  },
  {
   "cell_type": "code",
   "execution_count": 379,
   "id": "3f18bf75-a188-4099-831a-9e5388442d42",
   "metadata": {},
   "outputs": [
    {
     "data": {
      "text/html": [
       "<div>\n",
       "<style scoped>\n",
       "    .dataframe tbody tr th:only-of-type {\n",
       "        vertical-align: middle;\n",
       "    }\n",
       "\n",
       "    .dataframe tbody tr th {\n",
       "        vertical-align: top;\n",
       "    }\n",
       "\n",
       "    .dataframe thead th {\n",
       "        text-align: right;\n",
       "    }\n",
       "</style>\n",
       "<table border=\"1\" class=\"dataframe\">\n",
       "  <thead>\n",
       "    <tr style=\"text-align: right;\">\n",
       "      <th></th>\n",
       "      <th>popularity</th>\n",
       "      <th>Radiojavan_likes</th>\n",
       "      <th>Radiojavan_play</th>\n",
       "    </tr>\n",
       "  </thead>\n",
       "  <tbody>\n",
       "    <tr>\n",
       "      <th>Farzad Farzin</th>\n",
       "      <td>34.083333</td>\n",
       "      <td>24362.166667</td>\n",
       "      <td>2.263201e+07</td>\n",
       "    </tr>\n",
       "    <tr>\n",
       "      <th>Hamed Homayoun</th>\n",
       "      <td>24.176471</td>\n",
       "      <td>22864.294118</td>\n",
       "      <td>1.957761e+07</td>\n",
       "    </tr>\n",
       "  </tbody>\n",
       "</table>\n",
       "</div>"
      ],
      "text/plain": [
       "                popularity  Radiojavan_likes  Radiojavan_play\n",
       "Farzad Farzin    34.083333      24362.166667     2.263201e+07\n",
       "Hamed Homayoun   24.176471      22864.294118     1.957761e+07"
      ]
     },
     "execution_count": 379,
     "metadata": {},
     "output_type": "execute_result"
    }
   ],
   "source": [
    "# 11)Comparison Farzad Farzin and Hamed Homayoun\n",
    "list_2 = [[table(\"Farzad Farzin\",\"popularity\"),table(\"Farzad Farzin\",\"Radiojavan_likes\"),table(\"Farzad Farzin\",\"Radiojavan_play\")],\n",
    "        [table(\"Hamed Homayoun\",\"popularity\"),table(\"Hamed Homayoun\",\"Radiojavan_likes\"),table(\"Hamed Homayoun\",\"Radiojavan_play\")]]\n",
    "\n",
    "data_frame_2 = pd.DataFrame(list_2,index = [\"Farzad Farzin\",\"Hamed Homayoun\"],columns = [\"popularity\",\"Radiojavan_likes\",\"Radiojavan_play\"])\n",
    "data_frame_2"
   ]
  },
  {
   "cell_type": "code",
   "execution_count": 790,
   "id": "b534ea64-81b3-4ec7-b977-fe9d56ce60b4",
   "metadata": {},
   "outputs": [
    {
     "name": "stdout",
     "output_type": "stream",
     "text": [
      "Farzad Farzin is more popular than Hamed Homayoun and more successful\n"
     ]
    }
   ],
   "source": [
    "print(\"Farzad Farzin is more popular than Hamed Homayoun and more successful\")"
   ]
  },
  {
   "cell_type": "code",
   "execution_count": 792,
   "id": "9454162a-0119-4002-955f-d7e61db02e17",
   "metadata": {},
   "outputs": [
    {
     "name": "stdout",
     "output_type": "stream",
     "text": [
      "Singer of the least loudness song is: Octave Rivière\n"
     ]
    }
   ],
   "source": [
    "# 12)The least loudness\n",
    "o = data[data[\"loudness\"] == -37.806000][\"artistName\"]\n",
    "print(f\"Singer of the least loudness song is: {var(o)}\")"
   ]
  },
  {
   "cell_type": "code",
   "execution_count": 794,
   "id": "6f49315c-efa7-49ce-bc24-332ac13e74fa",
   "metadata": {},
   "outputs": [
    {
     "name": "stdout",
     "output_type": "stream",
     "text": [
      "Singer of the most loudness song is: Hamid Hiraad\n"
     ]
    }
   ],
   "source": [
    "# 12)The most loudness\n",
    "oo = data[data[\"loudness\"] >= -0.798000][\"artistName\"]\n",
    "print(f\"Singer of the most loudness song is: {var(oo)}\")"
   ]
  },
  {
   "cell_type": "code",
   "execution_count": 798,
   "id": "2ea8a4ff-b6b2-4c03-bad6-7af8b8ca9deb",
   "metadata": {},
   "outputs": [
    {
     "name": "stdout",
     "output_type": "stream",
     "text": [
      "Singer of the most duration song is: Yas\n"
     ]
    }
   ],
   "source": [
    "# 13)The most duration_ms\n",
    "p = data[data[\"duration_ms\"] == 679498.000000][\"artistName\"]\n",
    "print(f\"Singer of the most duration song is: {var(p)}\")"
   ]
  },
  {
   "cell_type": "code",
   "execution_count": 800,
   "id": "f5a00b80-ba92-4ffa-9f81-a8378c21d878",
   "metadata": {},
   "outputs": [
    {
     "name": "stdout",
     "output_type": "stream",
     "text": [
      "The most used word in Shadmehr Aghili's songs is: \n",
      "تو = 195\n",
      "The most used word in Mohsen Yeganeh's songs is: \n",
      "تو = 361\n"
     ]
    }
   ],
   "source": [
    "# 14)EMTIAZEEEEEE(The most used word in singers songs)\n",
    "l = []\n",
    "def count(singer):\n",
    "    for i in data[data[\"artistName\"] == singer][\"lyric\"]:\n",
    "        x = i.split(\"\\n\")\n",
    "        if x != \" \":\n",
    "            l.append(x)\n",
    "    s = []\n",
    "    for i in l:\n",
    "        for j in i:\n",
    "            c = j.split(\" \")\n",
    "            s.append(c)\n",
    "    \n",
    "    for i in s:\n",
    "        for j in i:\n",
    "            if j == \"\":\n",
    "                s.remove(i)\n",
    "    \n",
    "    words = []\n",
    "    for i in s:\n",
    "        for j in i:\n",
    "            words.append(j)\n",
    "    \n",
    "    op = {}\n",
    "    for i in words:\n",
    "        b = 0\n",
    "        for j in words:\n",
    "            if j == i:\n",
    "                b += 1\n",
    "                op[i] = b\n",
    "                \n",
    "    x = []\n",
    "    for i in op:\n",
    "        x.append(op[i])\n",
    "    for i in op:\n",
    "        if op[i] == max(x):\n",
    "            return(f\"The most used word in {singer}'s songs is: \\n{i} = {max(x)}\")\n",
    "            \n",
    "print(count(\"Shadmehr Aghili\"))\n",
    "print(count(\"Mohsen Yeganeh\"))"
   ]
  }
 ],
 "metadata": {
  "kernelspec": {
   "display_name": "Python 3 (ipykernel)",
   "language": "python",
   "name": "python3"
  },
  "language_info": {
   "codemirror_mode": {
    "name": "ipython",
    "version": 3
   },
   "file_extension": ".py",
   "mimetype": "text/x-python",
   "name": "python",
   "nbconvert_exporter": "python",
   "pygments_lexer": "ipython3",
   "version": "3.12.4"
  }
 },
 "nbformat": 4,
 "nbformat_minor": 5
}
