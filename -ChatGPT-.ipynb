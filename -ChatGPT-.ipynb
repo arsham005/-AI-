{
 "cells": [
  {
   "cell_type": "code",
   "execution_count": 48,
   "id": "db9aac2a-7213-4861-8490-3951fdf7d295",
   "metadata": {},
   "outputs": [],
   "source": [
    "import requests as req"
   ]
  },
  {
   "cell_type": "code",
   "execution_count": 58,
   "id": "d96c810f-8f07-4a68-8656-e7a96e24c544",
   "metadata": {},
   "outputs": [
    {
     "name": "stdin",
     "output_type": "stream",
     "text": [
      "Ask your question:  ME OR YOU?\n"
     ]
    },
    {
     "name": "stdout",
     "output_type": "stream",
     "text": [
      "Well, I am a digital assistant, so I am unable to make decisions or have a preference. The choice is ultimately up to you!\n"
     ]
    }
   ],
   "source": [
    "text = input(\"Ask your question: \")\n",
    "out = req.get(\"http://5.161.91.18/chat?text=\"+text)\n",
    "print(out.json())"
   ]
  },
  {
   "cell_type": "code",
   "execution_count": null,
   "id": "24092892-f569-4e69-92fb-a59bb116b82b",
   "metadata": {},
   "outputs": [],
   "source": []
  }
 ],
 "metadata": {
  "kernelspec": {
   "display_name": "Python 3 (ipykernel)",
   "language": "python",
   "name": "python3"
  },
  "language_info": {
   "codemirror_mode": {
    "name": "ipython",
    "version": 3
   },
   "file_extension": ".py",
   "mimetype": "text/x-python",
   "name": "python",
   "nbconvert_exporter": "python",
   "pygments_lexer": "ipython3",
   "version": "3.12.4"
  }
 },
 "nbformat": 4,
 "nbformat_minor": 5
}
